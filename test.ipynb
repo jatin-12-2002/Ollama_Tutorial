{
 "cells": [
  {
   "cell_type": "code",
   "execution_count": 1,
   "metadata": {},
   "outputs": [
    {
     "name": "stdout",
     "output_type": "stream",
     "text": [
      "Requirement already satisfied: langchain in ./env/lib/python3.10/site-packages (0.2.16)\n",
      "Requirement already satisfied: langchain_community in ./env/lib/python3.10/site-packages (0.2.16)\n",
      "Requirement already satisfied: PyYAML>=5.3 in ./env/lib/python3.10/site-packages (from langchain) (6.0.2)\n",
      "Requirement already satisfied: SQLAlchemy<3,>=1.4 in ./env/lib/python3.10/site-packages (from langchain) (2.0.33)\n",
      "Requirement already satisfied: aiohttp<4.0.0,>=3.8.3 in ./env/lib/python3.10/site-packages (from langchain) (3.10.5)\n",
      "Requirement already satisfied: async-timeout<5.0.0,>=4.0.0 in ./env/lib/python3.10/site-packages (from langchain) (4.0.3)\n",
      "Requirement already satisfied: langchain-core<0.3.0,>=0.2.38 in ./env/lib/python3.10/site-packages (from langchain) (0.2.38)\n",
      "Requirement already satisfied: langchain-text-splitters<0.3.0,>=0.2.0 in ./env/lib/python3.10/site-packages (from langchain) (0.2.4)\n",
      "Requirement already satisfied: langsmith<0.2.0,>=0.1.17 in ./env/lib/python3.10/site-packages (from langchain) (0.1.111)\n",
      "Requirement already satisfied: numpy<2,>=1 in ./env/lib/python3.10/site-packages (from langchain) (1.26.4)\n",
      "Requirement already satisfied: pydantic<3,>=1 in ./env/lib/python3.10/site-packages (from langchain) (2.8.2)\n",
      "Requirement already satisfied: requests<3,>=2 in ./env/lib/python3.10/site-packages (from langchain) (2.32.3)\n",
      "Requirement already satisfied: tenacity!=8.4.0,<9.0.0,>=8.1.0 in ./env/lib/python3.10/site-packages (from langchain) (8.5.0)\n",
      "Requirement already satisfied: dataclasses-json<0.7,>=0.5.7 in ./env/lib/python3.10/site-packages (from langchain_community) (0.6.7)\n",
      "Requirement already satisfied: aiohappyeyeballs>=2.3.0 in ./env/lib/python3.10/site-packages (from aiohttp<4.0.0,>=3.8.3->langchain) (2.4.0)\n",
      "Requirement already satisfied: aiosignal>=1.1.2 in ./env/lib/python3.10/site-packages (from aiohttp<4.0.0,>=3.8.3->langchain) (1.3.1)\n",
      "Requirement already satisfied: attrs>=17.3.0 in ./env/lib/python3.10/site-packages (from aiohttp<4.0.0,>=3.8.3->langchain) (24.2.0)\n",
      "Requirement already satisfied: frozenlist>=1.1.1 in ./env/lib/python3.10/site-packages (from aiohttp<4.0.0,>=3.8.3->langchain) (1.4.1)\n",
      "Requirement already satisfied: multidict<7.0,>=4.5 in ./env/lib/python3.10/site-packages (from aiohttp<4.0.0,>=3.8.3->langchain) (6.0.5)\n",
      "Requirement already satisfied: yarl<2.0,>=1.0 in ./env/lib/python3.10/site-packages (from aiohttp<4.0.0,>=3.8.3->langchain) (1.9.8)\n",
      "Requirement already satisfied: marshmallow<4.0.0,>=3.18.0 in ./env/lib/python3.10/site-packages (from dataclasses-json<0.7,>=0.5.7->langchain_community) (3.22.0)\n",
      "Requirement already satisfied: typing-inspect<1,>=0.4.0 in ./env/lib/python3.10/site-packages (from dataclasses-json<0.7,>=0.5.7->langchain_community) (0.9.0)\n",
      "Requirement already satisfied: jsonpatch<2.0,>=1.33 in ./env/lib/python3.10/site-packages (from langchain-core<0.3.0,>=0.2.38->langchain) (1.33)\n",
      "Requirement already satisfied: packaging<25,>=23.2 in ./env/lib/python3.10/site-packages (from langchain-core<0.3.0,>=0.2.38->langchain) (24.1)\n",
      "Requirement already satisfied: typing-extensions>=4.7 in ./env/lib/python3.10/site-packages (from langchain-core<0.3.0,>=0.2.38->langchain) (4.12.2)\n",
      "Requirement already satisfied: httpx<1,>=0.23.0 in ./env/lib/python3.10/site-packages (from langsmith<0.2.0,>=0.1.17->langchain) (0.27.2)\n",
      "Requirement already satisfied: orjson<4.0.0,>=3.9.14 in ./env/lib/python3.10/site-packages (from langsmith<0.2.0,>=0.1.17->langchain) (3.10.7)\n",
      "Requirement already satisfied: annotated-types>=0.4.0 in ./env/lib/python3.10/site-packages (from pydantic<3,>=1->langchain) (0.7.0)\n",
      "Requirement already satisfied: pydantic-core==2.20.1 in ./env/lib/python3.10/site-packages (from pydantic<3,>=1->langchain) (2.20.1)\n",
      "Requirement already satisfied: charset-normalizer<4,>=2 in ./env/lib/python3.10/site-packages (from requests<3,>=2->langchain) (3.3.2)\n",
      "Requirement already satisfied: idna<4,>=2.5 in ./env/lib/python3.10/site-packages (from requests<3,>=2->langchain) (3.8)\n",
      "Requirement already satisfied: urllib3<3,>=1.21.1 in ./env/lib/python3.10/site-packages (from requests<3,>=2->langchain) (2.2.2)\n",
      "Requirement already satisfied: certifi>=2017.4.17 in ./env/lib/python3.10/site-packages (from requests<3,>=2->langchain) (2024.8.30)\n",
      "Requirement already satisfied: greenlet!=0.4.17 in ./env/lib/python3.10/site-packages (from SQLAlchemy<3,>=1.4->langchain) (3.0.3)\n",
      "Requirement already satisfied: anyio in ./env/lib/python3.10/site-packages (from httpx<1,>=0.23.0->langsmith<0.2.0,>=0.1.17->langchain) (4.4.0)\n",
      "Requirement already satisfied: httpcore==1.* in ./env/lib/python3.10/site-packages (from httpx<1,>=0.23.0->langsmith<0.2.0,>=0.1.17->langchain) (1.0.5)\n",
      "Requirement already satisfied: sniffio in ./env/lib/python3.10/site-packages (from httpx<1,>=0.23.0->langsmith<0.2.0,>=0.1.17->langchain) (1.3.1)\n",
      "Requirement already satisfied: h11<0.15,>=0.13 in ./env/lib/python3.10/site-packages (from httpcore==1.*->httpx<1,>=0.23.0->langsmith<0.2.0,>=0.1.17->langchain) (0.14.0)\n",
      "Requirement already satisfied: jsonpointer>=1.9 in ./env/lib/python3.10/site-packages (from jsonpatch<2.0,>=1.33->langchain-core<0.3.0,>=0.2.38->langchain) (3.0.0)\n",
      "Requirement already satisfied: mypy-extensions>=0.3.0 in ./env/lib/python3.10/site-packages (from typing-inspect<1,>=0.4.0->dataclasses-json<0.7,>=0.5.7->langchain_community) (1.0.0)\n",
      "Requirement already satisfied: exceptiongroup>=1.0.2 in ./env/lib/python3.10/site-packages (from anyio->httpx<1,>=0.23.0->langsmith<0.2.0,>=0.1.17->langchain) (1.2.2)\n"
     ]
    }
   ],
   "source": [
    "!pip install langchain langchain_community"
   ]
  },
  {
   "cell_type": "code",
   "execution_count": 2,
   "metadata": {},
   "outputs": [],
   "source": [
    "from langchain.llms import Ollama"
   ]
  },
  {
   "cell_type": "code",
   "execution_count": 3,
   "metadata": {},
   "outputs": [],
   "source": [
    "model=Ollama(base_url=\"http://localhost:11434\", model=\"llama3.1\")"
   ]
  },
  {
   "cell_type": "code",
   "execution_count": 4,
   "metadata": {},
   "outputs": [
    {
     "name": "stderr",
     "output_type": "stream",
     "text": [
      "/tmp/ipykernel_13398/2016668092.py:1: LangChainDeprecationWarning: The method `BaseLLM.__call__` was deprecated in langchain-core 0.1.7 and will be removed in 1.0. Use invoke instead.\n",
      "  model(\"hi can you tell me about the mdt significant research in field of AI?\")\n"
     ]
    },
    {
     "data": {
      "text/plain": [
       "'You\\'re referring to MDT, or Model Distillation Techniques!\\n\\nModel distillation is a significant area of research in the field of Artificial Intelligence (AI), particularly in machine learning. Here\\'s an overview:\\n\\n**What is Model Distillation?**\\n\\nModel distillation is a technique used to compress or distill the knowledge and functionality of a large, complex AI model into a smaller, simpler one. The goal is to retain the accuracy and key features of the original model while reducing its size, computational requirements, and training time.\\n\\n**Significance in AI Research:**\\n\\nMDT has been applied to various areas of AI research with promising results:\\n\\n1. **Model Compression:** MDT enables the compression of large models into smaller ones, making them more efficient for deployment on edge devices (e.g., smartphones, smart home devices) or online platforms.\\n2. **Knowledge Transfer:** By distilling knowledge from one model to another, researchers can leverage pre-trained models as starting points for new tasks or domains, reducing the need for extensive retraining and data collection.\\n3. **Efficient Inference:** MDT enables faster inference times by simplifying complex models, which is crucial for real-time applications (e.g., self-driving cars, medical diagnosis).\\n4. **Adversarial Robustness:** Distilled models can be more robust against adversarial attacks, as they have a reduced capacity to memorize data and are less vulnerable to manipulation.\\n\\n**Applications:**\\n\\nMDT has been applied in various AI domains:\\n\\n1. **Computer Vision:** Model distillation has been used for tasks like image classification (e.g., ImageNet), object detection, segmentation, and instance recognition.\\n2. **Natural Language Processing (NLP):** Distilled models have been employed for text classification, sentiment analysis, language translation, and chatbot development.\\n3. **Speech Recognition:** MDT has been applied to speech-to-text tasks, improving the efficiency of speech recognition systems.\\n\\n**Notable Research:**\\n\\nSome notable research papers on model distillation techniques include:\\n\\n1. \"Distilling the Knowledge in a Neural Network\" by Hinton et al. (2015) - A pioneering work that introduced the concept of model distillation.\\n2. \"Model Distillation\" by Shlens et al. (2016) - An investigation into the properties and applications of model distillation techniques.\\n\\n**Recent Developments:**\\n\\nIn recent years, research on MDT has expanded to include:\\n\\n1. **Distilled Attention Mechanisms:** Techniques for compressing attention mechanisms in transformers.\\n2. **Knowledge Distillation with Adversarial Training:** Methods for improving adversarial robustness by distilling knowledge from a pre-trained model.\\n\\nThe field of model distillation is rapidly evolving, and researchers continue to explore new techniques and applications.\\n\\nI hope this introduction to MDT has been informative! Do you have any specific questions or would you like me to elaborate on certain points?'"
      ]
     },
     "execution_count": 4,
     "metadata": {},
     "output_type": "execute_result"
    }
   ],
   "source": [
    "model(\"hi can you tell me about the mdt significant research in field of AI?\")"
   ]
  },
  {
   "cell_type": "code",
   "execution_count": 5,
   "metadata": {},
   "outputs": [
    {
     "data": {
      "text/plain": [
       "\"AI (Artificial Intelligence) is a vast and fascinating field that has been rapidly evolving in recent years. I'd be happy to give you an overview.\\n\\n**What is AI?**\\n\\nAI refers to the development of computer systems that can perform tasks typically requiring human intelligence, such as:\\n\\n1. Learning: Improving performance on a task through experience or data.\\n2. Reasoning: Making decisions based on rules, logic, and inference.\\n3. Problem-solving: Identifying and solving complex problems.\\n4. Perception: Interpreting and understanding data from sensors, images, audio, etc.\\n\\n**Types of AI**\\n\\nThere are several types of AI, including:\\n\\n1. **Narrow or Weak AI**: Designed to perform a specific task, like facial recognition or language translation.\\n2. **General or Strong AI**: A hypothetical AI that can learn, reason, and apply knowledge across a wide range of tasks, similar to human intelligence.\\n3. **Superintelligence**: An AI system significantly more intelligent than the best human minds.\\n\\n**Applications of AI**\\n\\nAI has numerous applications in various industries, including:\\n\\n1. **Healthcare**: Diagnosis, treatment planning, personalized medicine.\\n2. **Finance**: Risk analysis, investment decisions, fraud detection.\\n3. **Education**: Adaptive learning systems, virtual teaching assistants.\\n4. **Transportation**: Autonomous vehicles, route optimization.\\n5. **Customer Service**: Chatbots, virtual assistants.\\n\\n**How AI works**\\n\\nAI systems use various techniques to learn and make decisions, including:\\n\\n1. **Machine Learning (ML)**: Algorithms that improve with experience.\\n2. **Deep Learning (DL)**: A type of ML using neural networks inspired by the human brain.\\n3. **Natural Language Processing (NLP)**: Understanding and generating human language.\\n4. **Computer Vision**: Interpreting and understanding visual data from images and videos.\\n\\n**Challenges and Ethics**\\n\\nWhile AI has tremendous potential, it also raises concerns about:\\n\\n1. **Bias and fairness**: Ensuring AI systems are unbiased and fair.\\n2. **Job displacement**: The impact of automation on human employment.\\n3. **Security and safety**: Protecting against cyber threats and ensuring AI systems are reliable.\\n\\n**The Future of AI**\\n\\nAs AI continues to evolve, we can expect:\\n\\n1. **Increased adoption**: Wider use in industries and daily life.\\n2. **Improved performance**: More accurate and efficient decision-making.\\n3. **New applications**: Emerging areas like AI-generated content and human-AI collaboration.\\n\\nThat's a basic overview of AI! Is there something specific you'd like to know or discuss further?\""
      ]
     },
     "execution_count": 5,
     "metadata": {},
     "output_type": "execute_result"
    }
   ],
   "source": [
    "model(\"hi can you tell me more about AI?\")"
   ]
  },
  {
   "cell_type": "code",
   "execution_count": null,
   "metadata": {},
   "outputs": [],
   "source": []
  }
 ],
 "metadata": {
  "kernelspec": {
   "display_name": "Python 3",
   "language": "python",
   "name": "python3"
  },
  "language_info": {
   "codemirror_mode": {
    "name": "ipython",
    "version": 3
   },
   "file_extension": ".py",
   "mimetype": "text/x-python",
   "name": "python",
   "nbconvert_exporter": "python",
   "pygments_lexer": "ipython3",
   "version": "3.10.14"
  }
 },
 "nbformat": 4,
 "nbformat_minor": 2
}
