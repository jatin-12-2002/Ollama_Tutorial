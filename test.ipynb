{
 "cells": [
  {
   "cell_type": "code",
   "execution_count": 7,
   "metadata": {},
   "outputs": [
    {
     "name": "stdout",
     "output_type": "stream",
     "text": [
      "Requirement already satisfied: langchain in /usr/local/python/3.12.1/lib/python3.12/site-packages (0.2.16)\n",
      "Collecting langchain_community\n",
      "  Downloading langchain_community-0.2.16-py3-none-any.whl.metadata (2.7 kB)\n",
      "Requirement already satisfied: PyYAML>=5.3 in /home/codespace/.local/lib/python3.12/site-packages (from langchain) (6.0.2)\n",
      "Requirement already satisfied: SQLAlchemy<3,>=1.4 in /usr/local/python/3.12.1/lib/python3.12/site-packages (from langchain) (2.0.33)\n",
      "Requirement already satisfied: aiohttp<4.0.0,>=3.8.3 in /usr/local/python/3.12.1/lib/python3.12/site-packages (from langchain) (3.10.5)\n",
      "Requirement already satisfied: langchain-core<0.3.0,>=0.2.38 in /usr/local/python/3.12.1/lib/python3.12/site-packages (from langchain) (0.2.38)\n",
      "Requirement already satisfied: langchain-text-splitters<0.3.0,>=0.2.0 in /usr/local/python/3.12.1/lib/python3.12/site-packages (from langchain) (0.2.4)\n",
      "Requirement already satisfied: langsmith<0.2.0,>=0.1.17 in /usr/local/python/3.12.1/lib/python3.12/site-packages (from langchain) (0.1.110)\n",
      "Requirement already satisfied: numpy<2.0.0,>=1.26.0 in /usr/local/python/3.12.1/lib/python3.12/site-packages (from langchain) (1.26.4)\n",
      "Requirement already satisfied: pydantic<3,>=1 in /usr/local/python/3.12.1/lib/python3.12/site-packages (from langchain) (2.8.2)\n",
      "Requirement already satisfied: requests<3,>=2 in /home/codespace/.local/lib/python3.12/site-packages (from langchain) (2.32.3)\n",
      "Requirement already satisfied: tenacity!=8.4.0,<9.0.0,>=8.1.0 in /usr/local/python/3.12.1/lib/python3.12/site-packages (from langchain) (8.5.0)\n",
      "Collecting dataclasses-json<0.7,>=0.5.7 (from langchain_community)\n",
      "  Downloading dataclasses_json-0.6.7-py3-none-any.whl.metadata (25 kB)\n",
      "Requirement already satisfied: aiohappyeyeballs>=2.3.0 in /usr/local/python/3.12.1/lib/python3.12/site-packages (from aiohttp<4.0.0,>=3.8.3->langchain) (2.4.0)\n",
      "Requirement already satisfied: aiosignal>=1.1.2 in /usr/local/python/3.12.1/lib/python3.12/site-packages (from aiohttp<4.0.0,>=3.8.3->langchain) (1.3.1)\n",
      "Requirement already satisfied: attrs>=17.3.0 in /home/codespace/.local/lib/python3.12/site-packages (from aiohttp<4.0.0,>=3.8.3->langchain) (24.2.0)\n",
      "Requirement already satisfied: frozenlist>=1.1.1 in /usr/local/python/3.12.1/lib/python3.12/site-packages (from aiohttp<4.0.0,>=3.8.3->langchain) (1.4.1)\n",
      "Requirement already satisfied: multidict<7.0,>=4.5 in /usr/local/python/3.12.1/lib/python3.12/site-packages (from aiohttp<4.0.0,>=3.8.3->langchain) (6.0.5)\n",
      "Requirement already satisfied: yarl<2.0,>=1.0 in /usr/local/python/3.12.1/lib/python3.12/site-packages (from aiohttp<4.0.0,>=3.8.3->langchain) (1.9.7)\n",
      "Collecting marshmallow<4.0.0,>=3.18.0 (from dataclasses-json<0.7,>=0.5.7->langchain_community)\n",
      "  Downloading marshmallow-3.22.0-py3-none-any.whl.metadata (7.2 kB)\n",
      "Collecting typing-inspect<1,>=0.4.0 (from dataclasses-json<0.7,>=0.5.7->langchain_community)\n",
      "  Downloading typing_inspect-0.9.0-py3-none-any.whl.metadata (1.5 kB)\n",
      "Requirement already satisfied: jsonpatch<2.0,>=1.33 in /usr/local/python/3.12.1/lib/python3.12/site-packages (from langchain-core<0.3.0,>=0.2.38->langchain) (1.33)\n",
      "Requirement already satisfied: packaging<25,>=23.2 in /home/codespace/.local/lib/python3.12/site-packages (from langchain-core<0.3.0,>=0.2.38->langchain) (24.1)\n",
      "Requirement already satisfied: typing-extensions>=4.7 in /home/codespace/.local/lib/python3.12/site-packages (from langchain-core<0.3.0,>=0.2.38->langchain) (4.9.0)\n",
      "Requirement already satisfied: httpx<1,>=0.23.0 in /home/codespace/.local/lib/python3.12/site-packages (from langsmith<0.2.0,>=0.1.17->langchain) (0.27.0)\n",
      "Requirement already satisfied: orjson<4.0.0,>=3.9.14 in /usr/local/python/3.12.1/lib/python3.12/site-packages (from langsmith<0.2.0,>=0.1.17->langchain) (3.10.7)\n",
      "Requirement already satisfied: annotated-types>=0.4.0 in /usr/local/python/3.12.1/lib/python3.12/site-packages (from pydantic<3,>=1->langchain) (0.7.0)\n",
      "Requirement already satisfied: pydantic-core==2.20.1 in /usr/local/python/3.12.1/lib/python3.12/site-packages (from pydantic<3,>=1->langchain) (2.20.1)\n",
      "Requirement already satisfied: charset-normalizer<4,>=2 in /home/codespace/.local/lib/python3.12/site-packages (from requests<3,>=2->langchain) (3.3.2)\n",
      "Requirement already satisfied: idna<4,>=2.5 in /home/codespace/.local/lib/python3.12/site-packages (from requests<3,>=2->langchain) (3.7)\n",
      "Requirement already satisfied: urllib3<3,>=1.21.1 in /home/codespace/.local/lib/python3.12/site-packages (from requests<3,>=2->langchain) (2.2.2)\n",
      "Requirement already satisfied: certifi>=2017.4.17 in /home/codespace/.local/lib/python3.12/site-packages (from requests<3,>=2->langchain) (2024.7.4)\n",
      "Requirement already satisfied: greenlet!=0.4.17 in /usr/local/python/3.12.1/lib/python3.12/site-packages (from SQLAlchemy<3,>=1.4->langchain) (3.0.3)\n",
      "Requirement already satisfied: anyio in /home/codespace/.local/lib/python3.12/site-packages (from httpx<1,>=0.23.0->langsmith<0.2.0,>=0.1.17->langchain) (4.4.0)\n",
      "Requirement already satisfied: httpcore==1.* in /home/codespace/.local/lib/python3.12/site-packages (from httpx<1,>=0.23.0->langsmith<0.2.0,>=0.1.17->langchain) (1.0.5)\n",
      "Requirement already satisfied: sniffio in /home/codespace/.local/lib/python3.12/site-packages (from httpx<1,>=0.23.0->langsmith<0.2.0,>=0.1.17->langchain) (1.3.1)\n",
      "Requirement already satisfied: h11<0.15,>=0.13 in /home/codespace/.local/lib/python3.12/site-packages (from httpcore==1.*->httpx<1,>=0.23.0->langsmith<0.2.0,>=0.1.17->langchain) (0.14.0)\n",
      "Requirement already satisfied: jsonpointer>=1.9 in /home/codespace/.local/lib/python3.12/site-packages (from jsonpatch<2.0,>=1.33->langchain-core<0.3.0,>=0.2.38->langchain) (3.0.0)\n",
      "Collecting mypy-extensions>=0.3.0 (from typing-inspect<1,>=0.4.0->dataclasses-json<0.7,>=0.5.7->langchain_community)\n",
      "  Downloading mypy_extensions-1.0.0-py3-none-any.whl.metadata (1.1 kB)\n",
      "Downloading langchain_community-0.2.16-py3-none-any.whl (2.3 MB)\n",
      "\u001b[2K   \u001b[90m━━━━━━━━━━━━━━━━━━━━━━━━━━━━━━━━━━━━━━━━\u001b[0m \u001b[32m2.3/2.3 MB\u001b[0m \u001b[31m10.6 MB/s\u001b[0m eta \u001b[36m0:00:00\u001b[0m \u001b[36m0:00:01\u001b[0m\n",
      "\u001b[?25hDownloading dataclasses_json-0.6.7-py3-none-any.whl (28 kB)\n",
      "Downloading marshmallow-3.22.0-py3-none-any.whl (49 kB)\n",
      "Downloading typing_inspect-0.9.0-py3-none-any.whl (8.8 kB)\n",
      "Downloading mypy_extensions-1.0.0-py3-none-any.whl (4.7 kB)\n",
      "Installing collected packages: mypy-extensions, marshmallow, typing-inspect, dataclasses-json, langchain_community\n",
      "Successfully installed dataclasses-json-0.6.7 langchain_community-0.2.16 marshmallow-3.22.0 mypy-extensions-1.0.0 typing-inspect-0.9.0\n"
     ]
    }
   ],
   "source": [
    "!pip install langchain langchain_community"
   ]
  },
  {
   "cell_type": "code",
   "execution_count": 8,
   "metadata": {},
   "outputs": [],
   "source": [
    "from langchain.llms import Ollama"
   ]
  },
  {
   "cell_type": "code",
   "execution_count": 9,
   "metadata": {},
   "outputs": [],
   "source": [
    "model=Ollama(base_url=\"http://localhost:11434\", model=\"llama3.1\")"
   ]
  },
  {
   "cell_type": "code",
   "execution_count": 10,
   "metadata": {},
   "outputs": [
    {
     "name": "stderr",
     "output_type": "stream",
     "text": [
      "/tmp/ipykernel_32378/2016668092.py:1: LangChainDeprecationWarning: The method `BaseLLM.__call__` was deprecated in langchain-core 0.1.7 and will be removed in 1.0. Use invoke instead.\n",
      "  model(\"hi can you tell me about the mdt significant research in field of AI?\")\n"
     ]
    },
    {
     "data": {
      "text/plain": [
       "'You\\'re referring to \"Multimodal Deep Learning and Transfer\" (MDT) research!\\n\\nThe MDT research area is a subfield of Artificial Intelligence (AI) that focuses on developing machine learning models capable of understanding, processing, and generating multimodal data. This includes:\\n\\n1. **Text**: Natural Language Processing (NLP)\\n2. **Images**: Computer Vision\\n3. **Audio**: Speech Recognition and Audio Signal Processing\\n4. **Video**: Video Analysis and Understanding\\n5. **Sensors**: Multimodal sensing from various devices, such as wearables or IoT sensors\\n\\nSignificant research in the field of MDT has led to advancements in areas like:\\n\\n1. **Multimodal fusion**: combining data from multiple modalities (e.g., text-image pairs) to improve performance on specific tasks.\\n2. **Cross-modal transfer learning**: leveraging knowledge learned from one modality to improve performance on another modality (e.g., using pre-trained vision models for NLP).\\n3. **Multitask learning**: training a model on multiple related tasks simultaneously, often with a shared representation or joint objective function.\\n\\nSome notable research and applications in the MDT field include:\\n\\n1. **Visual question answering**: using multimodal fusion to answer questions based on images (e.g., [10] by Agrawal et al.).\\n2. **Multimodal sentiment analysis**: combining text and image data to analyze sentiment or emotions (e.g., [5] by Kim et al.).\\n3. **Speech-to-text**: using deep learning models for speech recognition and transcription (e.g., [9] by Graves et al.).\\n4. **Computer vision tasks**: leveraging multimodal data to improve performance on tasks like object detection, segmentation, or scene understanding.\\n5. **Healthcare applications**: applying MDT techniques to analyze medical images, diagnose diseases, or predict patient outcomes.\\n\\nSome recent and influential papers in the field of MDT include:\\n\\n1. **\"Multimodal Fusion for Sentiment Analysis\"** by Kim et al. (2017)\\n2. **\"Cross-Modal Transfer Learning for Visual Question Answering\"** by Agrawal et al. (2018)\\n3. **\"Multitask Learning for Multimodal Emotion Recognition\"** by Zhang et al. (2020)\\n\\nThese are just a few examples of the significant research being conducted in the field of MDT. I\\'m happy to provide more information or recommendations based on your specific interests!'"
      ]
     },
     "execution_count": 10,
     "metadata": {},
     "output_type": "execute_result"
    }
   ],
   "source": [
    "model(\"hi can you tell me about the mdt significant research in field of AI?\")"
   ]
  },
  {
   "cell_type": "code",
   "execution_count": 11,
   "metadata": {},
   "outputs": [
    {
     "data": {
      "text/plain": [
       "\"Artificial Intelligence (AI) is a vast and fascinating field that has been growing rapidly in recent years. I'd be happy to give you an overview.\\n\\n**What is Artificial Intelligence?**\\n\\nAI refers to the development of computer systems that can perform tasks that typically require human intelligence, such as:\\n\\n1. **Learning**: The ability to learn from data and improve performance over time.\\n2. **Reasoning**: The capacity to draw conclusions and make decisions based on logic and rules.\\n3. **Perception**: The ability to interpret and understand sensory data, such as images, speech, or text.\\n\\n**Types of AI**\\n\\nThere are several types of AI, including:\\n\\n1. **Narrow AI (or Weak AI)**: Designed to perform a specific task, like virtual assistants (e.g., Siri, Alexa) or image recognition.\\n2. **General AI (or Strong AI)**: A hypothetical form of AI that can understand and apply knowledge across a wide range of tasks, similar to human intelligence.\\n3. **Superintelligence**: An AI system that significantly surpasses human intelligence in various domains.\\n\\n**Applications of AI**\\n\\nAI has numerous applications across various industries, including:\\n\\n1. **Healthcare**: Disease diagnosis, personalized medicine, and medical research.\\n2. **Finance**: Risk analysis, portfolio management, and automated trading systems.\\n3. **Education**: Personalized learning, adaptive assessments, and intelligent tutoring systems.\\n4. **Customer Service**: Chatbots, virtual assistants, and natural language processing (NLP) powered interfaces.\\n5. **Autonomous Systems**: Self-driving cars, drones, and robots.\\n\\n**AI Techniques**\\n\\nSome popular AI techniques include:\\n\\n1. **Machine Learning (ML)**: A subset of AI that enables systems to learn from data without being explicitly programmed.\\n2. **Deep Learning (DL)**: A type of ML that uses neural networks with multiple layers to analyze complex data.\\n3. **Natural Language Processing (NLP)**: The ability of computers to understand and generate human language.\\n4. **Computer Vision**: The analysis and interpretation of visual data from images or videos.\\n\\n**Benefits and Challenges**\\n\\nAI has numerous benefits, such as:\\n\\n1. **Improved efficiency**: AI can automate repetitive tasks, freeing up time for more creative and strategic work.\\n2. **Enhanced decision-making**: AI can analyze vast amounts of data to provide insights that humans might miss.\\n3. **Increased productivity**: AI can help with various tasks, from customer service to inventory management.\\n\\nHowever, AI also raises concerns about:\\n\\n1. **Job displacement**: The potential for AI to automate jobs and displace human workers.\\n2. **Bias and fairness**: The risk of AI systems perpetuating existing biases or creating new ones.\\n3. **Security**: The possibility of AI being used maliciously or compromised by cyber threats.\\n\\n**Real-World Examples**\\n\\nSome real-world examples of AI in action include:\\n\\n1. **Virtual assistants**: Siri, Google Assistant, and Alexa use AI to understand voice commands and respond accordingly.\\n2. **Image recognition**: Facebook's facial recognition feature uses AI to identify people in photos.\\n3. **Recommendation systems**: Online retailers like Amazon use AI to suggest products based on customers' browsing history and purchase behavior.\\n\\nI hope this gives you a good introduction to the world of Artificial Intelligence! What specific aspects would you like me to elaborate on?\""
      ]
     },
     "execution_count": 11,
     "metadata": {},
     "output_type": "execute_result"
    }
   ],
   "source": [
    "model(\"hi can you tell me more about AI?\")"
   ]
  },
  {
   "cell_type": "code",
   "execution_count": null,
   "metadata": {},
   "outputs": [],
   "source": []
  }
 ],
 "metadata": {
  "kernelspec": {
   "display_name": "Python 3",
   "language": "python",
   "name": "python3"
  },
  "language_info": {
   "codemirror_mode": {
    "name": "ipython",
    "version": 3
   },
   "file_extension": ".py",
   "mimetype": "text/x-python",
   "name": "python",
   "nbconvert_exporter": "python",
   "pygments_lexer": "ipython3",
   "version": "3.12.1"
  }
 },
 "nbformat": 4,
 "nbformat_minor": 2
}
